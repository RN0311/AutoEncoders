{
  "nbformat": 4,
  "nbformat_minor": 0,
  "metadata": {
    "colab": {
      "name": "Noise Reduction using AutoEncoder.ipynb",
      "provenance": []
    },
    "kernelspec": {
      "name": "python3",
      "display_name": "Python 3"
    }
  },
  "cells": [
    {
      "cell_type": "markdown",
      "metadata": {
        "id": "ToPOXYH25q6P",
        "colab_type": "text"
      },
      "source": [
        "### Building AutoEncoder in Keras on MNSIT datasat"
      ]
    },
    {
      "cell_type": "code",
      "metadata": {
        "id": "Zo9VEZJr52FQ",
        "colab_type": "code",
        "colab": {
          "base_uri": "https://localhost:8080/",
          "height": 80
        },
        "outputId": "31be6376-1d41-4667-d7f9-3598717d8b93"
      },
      "source": [
        "import numpy as np\n",
        "import matplotlib.pyplot as plt\n",
        "import keras\n",
        "from keras.models import Model\n",
        "from keras.layers import Conv2D, Input, Dense, MaxPooling2D, UpSampling2D\n",
        "from sklearn.model_selection import train_test_split\n",
        "%matplotlib inline"
      ],
      "execution_count": 7,
      "outputs": [
        {
          "output_type": "stream",
          "text": [
            "Using TensorFlow backend.\n"
          ],
          "name": "stderr"
        },
        {
          "output_type": "display_data",
          "data": {
            "text/html": [
              "<p style=\"color: red;\">\n",
              "The default version of TensorFlow in Colab will soon switch to TensorFlow 2.x.<br>\n",
              "We recommend you <a href=\"https://www.tensorflow.org/guide/migrate\" target=\"_blank\">upgrade</a> now \n",
              "or ensure your notebook will continue to use TensorFlow 1.x via the <code>%tensorflow_version 1.x</code> magic:\n",
              "<a href=\"https://colab.research.google.com/notebooks/tensorflow_version.ipynb\" target=\"_blank\">more info</a>.</p>\n"
            ],
            "text/plain": [
              "<IPython.core.display.HTML object>"
            ]
          },
          "metadata": {
            "tags": []
          }
        }
      ]
    },
    {
      "cell_type": "code",
      "metadata": {
        "id": "33ZGAO594ZIE",
        "colab_type": "code",
        "colab": {
          "base_uri": "https://localhost:8080/",
          "height": 51
        },
        "outputId": "9b6efdcc-4bab-4dbb-fe36-61e5517d2255"
      },
      "source": [
        "from keras.datasets import mnist\n",
        "\n",
        "(x_train, y_train), (x_test, y_test) = mnist.load_data()"
      ],
      "execution_count": 8,
      "outputs": [
        {
          "output_type": "stream",
          "text": [
            "Downloading data from https://s3.amazonaws.com/img-datasets/mnist.npz\n",
            "11493376/11490434 [==============================] - 1s 0us/step\n"
          ],
          "name": "stdout"
        }
      ]
    },
    {
      "cell_type": "markdown",
      "metadata": {
        "id": "tRpJDK8D5j1R",
        "colab_type": "text"
      },
      "source": [
        "#### Lets examine sample images"
      ]
    },
    {
      "cell_type": "code",
      "metadata": {
        "id": "tr3g87jh5bF0",
        "colab_type": "code",
        "colab": {
          "base_uri": "https://localhost:8080/",
          "height": 86
        },
        "outputId": "ac2e3839-856d-42de-ea72-cf999d85532e"
      },
      "source": [
        "plt.figure(figsize=(22, 6))\n",
        "for i in range(20):\n",
        "  plt.subplot(1,20,i+1)\n",
        "  plt.imshow(x_train[i],cmap='gray')\n",
        "  plt.xticks([])\n",
        "  plt.yticks([])\n",
        "  \n",
        "plt.show()"
      ],
      "execution_count": 9,
      "outputs": [
        {
          "output_type": "display_data",
          "data": {
            "image/png": "[encoded data removed]",
            "text/plain": [
              "<Figure size 1584x432 with 20 Axes>"
            ]
          },
          "metadata": {
            "tags": []
          }
        }
      ]
    },
    {
      "cell_type": "markdown",
      "metadata": {
        "id": "89elfvJp7NSG",
        "colab_type": "text"
      },
      "source": [
        "### Simple Autoencoder"
      ]
    },
    {
      "cell_type": "code",
      "metadata": {
        "id": "Y_GhEtOV6vvU",
        "colab_type": "code",
        "colab": {
          "base_uri": "https://localhost:8080/",
          "height": 139
        },
        "outputId": "9d913168-a0fd-4a0e-f649-6f67a6cb037e"
      },
      "source": [
        "input_dataset = Input(shape=(784,))\n",
        "enc_fc_layer = Dense(32, activation = 'relu')\n",
        "encoded = enc_fc_layer(input_dataset)"
      ],
      "execution_count": 10,
      "outputs": [
        {
          "output_type": "stream",
          "text": [
            "WARNING:tensorflow:From /usr/local/lib/python3.6/dist-packages/keras/backend/tensorflow_backend.py:66: The name tf.get_default_graph is deprecated. Please use tf.compat.v1.get_default_graph instead.\n",
            "\n",
            "WARNING:tensorflow:From /usr/local/lib/python3.6/dist-packages/keras/backend/tensorflow_backend.py:541: The name tf.placeholder is deprecated. Please use tf.compat.v1.placeholder instead.\n",
            "\n",
            "WARNING:tensorflow:From /usr/local/lib/python3.6/dist-packages/keras/backend/tensorflow_backend.py:4432: The name tf.random_uniform is deprecated. Please use tf.random.uniform instead.\n",
            "\n"
          ],
          "name": "stdout"
        }
      ]
    },
    {
      "cell_type": "code",
      "metadata": {
        "id": "Ml8LRkE575y6",
        "colab_type": "code",
        "colab": {}
      },
      "source": [
        "dec_fc_layer = Dense(784,activation = 'sigmoid')\n",
        "decoded = dec_fc_layer(encoded)"
      ],
      "execution_count": 0,
      "outputs": []
    },
    {
      "cell_type": "code",
      "metadata": {
        "id": "eqGHEvVZ8LSu",
        "colab_type": "code",
        "colab": {
          "base_uri": "https://localhost:8080/",
          "height": 156
        },
        "outputId": "d3312d1e-90e8-4c68-8877-170c46daf4e4"
      },
      "source": [
        "autoencoder = Model(input_dataset,decoded)\n",
        "autoencoder.compile(optimizer='adam',loss='binary_crossentropy')"
      ],
      "execution_count": 12,
      "outputs": [
        {
          "output_type": "stream",
          "text": [
            "WARNING:tensorflow:From /usr/local/lib/python3.6/dist-packages/keras/optimizers.py:793: The name tf.train.Optimizer is deprecated. Please use tf.compat.v1.train.Optimizer instead.\n",
            "\n",
            "WARNING:tensorflow:From /usr/local/lib/python3.6/dist-packages/keras/backend/tensorflow_backend.py:3657: The name tf.log is deprecated. Please use tf.math.log instead.\n",
            "\n",
            "WARNING:tensorflow:From /usr/local/lib/python3.6/dist-packages/tensorflow_core/python/ops/nn_impl.py:183: where (from tensorflow.python.ops.array_ops) is deprecated and will be removed in a future version.\n",
            "Instructions for updating:\n",
            "Use tf.where in 2.0, which has the same broadcast rule as np.where\n"
          ],
          "name": "stdout"
        }
      ]
    },
    {
      "cell_type": "code",
      "metadata": {
        "id": "dW39W4XX8iYX",
        "colab_type": "code",
        "colab": {}
      },
      "source": [
        "\n",
        "def preprocessImage(img):\n",
        "  img = img.astype('float32')/float(255)\n",
        "  return img.reshape(-1, np.prod(img.shape[1:]))\n",
        "  \n",
        "x_train = preprocessImage(x_train)\n",
        "x_test = preprocessImage(x_test)\n",
        "\n",
        "\n",
        "# validation set for training\n",
        "x_train, x_valid = train_test_split(x_train, test_size=500)"
      ],
      "execution_count": 0,
      "outputs": []
    },
    {
      "cell_type": "markdown",
      "metadata": {
        "id": "kXdxPslF-bcV",
        "colab_type": "text"
      },
      "source": [
        "##### Let's train the autoencoder which compress the input image and restores to the original image size."
      ]
    },
    {
      "cell_type": "code",
      "metadata": {
        "id": "mvXRhHyZ-Tkk",
        "colab_type": "code",
        "colab": {
          "base_uri": "https://localhost:8080/",
          "height": 1000
        },
        "outputId": "307147c1-1436-4a99-d1bd-4c81eb699128"
      },
      "source": [
        "autoencoder.fit(x_train,x_train,epochs=100,batch_size=128,validation_data=(x_valid,x_valid))"
      ],
      "execution_count": 14,
      "outputs": [
        {
          "output_type": "stream",
          "text": [
            "WARNING:tensorflow:From /usr/local/lib/python3.6/dist-packages/keras/backend/tensorflow_backend.py:1033: The name tf.assign_add is deprecated. Please use tf.compat.v1.assign_add instead.\n",
            "\n",
            "WARNING:tensorflow:From /usr/local/lib/python3.6/dist-packages/keras/backend/tensorflow_backend.py:1020: The name tf.assign is deprecated. Please use tf.compat.v1.assign instead.\n",
            "\n",
            "WARNING:tensorflow:From /usr/local/lib/python3.6/dist-packages/keras/backend/tensorflow_backend.py:3005: The name tf.Session is deprecated. Please use tf.compat.v1.Session instead.\n",
            "\n",
            "Train on 59500 samples, validate on 500 samples\n",
            "Epoch 1/100\n",
            "WARNING:tensorflow:From /usr/local/lib/python3.6/dist-packages/keras/backend/tensorflow_backend.py:190: The name tf.get_default_session is deprecated. Please use tf.compat.v1.get_default_session instead.\n",
            "\n",
            "WARNING:tensorflow:From /usr/local/lib/python3.6/dist-packages/keras/backend/tensorflow_backend.py:197: The name tf.ConfigProto is deprecated. Please use tf.compat.v1.ConfigProto instead.\n",
            "\n",
            "WARNING:tensorflow:From /usr/local/lib/python3.6/dist-packages/keras/backend/tensorflow_backend.py:207: The name tf.global_variables is deprecated. Please use tf.compat.v1.global_variables instead.\n",
            "\n",
            "WARNING:tensorflow:From /usr/local/lib/python3.6/dist-packages/keras/backend/tensorflow_backend.py:216: The name tf.is_variable_initialized is deprecated. Please use tf.compat.v1.is_variable_initialized instead.\n",
            "\n",
            "WARNING:tensorflow:From /usr/local/lib/python3.6/dist-packages/keras/backend/tensorflow_backend.py:223: The name tf.variables_initializer is deprecated. Please use tf.compat.v1.variables_initializer instead.\n",
            "\n",
            "59500/59500 [==============================] - 5s 84us/step - loss: 0.2292 - val_loss: 0.1620\n",
            "Epoch 2/100\n",
            "59500/59500 [==============================] - 4s 71us/step - loss: 0.1427 - val_loss: 0.1294\n",
            "Epoch 3/100\n",
            "59500/59500 [==============================] - 4s 73us/step - loss: 0.1203 - val_loss: 0.1145\n",
            "Epoch 4/100\n",
            "59500/59500 [==============================] - 4s 72us/step - loss: 0.1088 - val_loss: 0.1056\n",
            "Epoch 5/100\n",
            "59500/59500 [==============================] - 4s 75us/step - loss: 0.1021 - val_loss: 0.1005\n",
            "Epoch 6/100\n",
            "59500/59500 [==============================] - 4s 73us/step - loss: 0.0982 - val_loss: 0.0975\n",
            "Epoch 7/100\n",
            "59500/59500 [==============================] - 4s 72us/step - loss: 0.0962 - val_loss: 0.0962\n",
            "Epoch 8/100\n",
            "59500/59500 [==============================] - 5s 77us/step - loss: 0.0952 - val_loss: 0.0956\n",
            "Epoch 9/100\n",
            "59500/59500 [==============================] - 5s 78us/step - loss: 0.0946 - val_loss: 0.0951\n",
            "Epoch 10/100\n",
            "59500/59500 [==============================] - 4s 72us/step - loss: 0.0942 - val_loss: 0.0948\n",
            "Epoch 11/100\n",
            "59500/59500 [==============================] - 4s 73us/step - loss: 0.0940 - val_loss: 0.0947\n",
            "Epoch 12/100\n",
            "59500/59500 [==============================] - 5s 77us/step - loss: 0.0938 - val_loss: 0.0945\n",
            "Epoch 13/100\n",
            "59500/59500 [==============================] - 4s 75us/step - loss: 0.0937 - val_loss: 0.0943\n",
            "Epoch 14/100\n",
            "59500/59500 [==============================] - 4s 72us/step - loss: 0.0935 - val_loss: 0.0942\n",
            "Epoch 15/100\n",
            "59500/59500 [==============================] - 5s 77us/step - loss: 0.0934 - val_loss: 0.0941\n",
            "Epoch 16/100\n",
            "59500/59500 [==============================] - 5s 77us/step - loss: 0.0934 - val_loss: 0.0940\n",
            "Epoch 17/100\n",
            "59500/59500 [==============================] - 4s 74us/step - loss: 0.0933 - val_loss: 0.0939\n",
            "Epoch 18/100\n",
            "59500/59500 [==============================] - 4s 73us/step - loss: 0.0932 - val_loss: 0.0940\n",
            "Epoch 19/100\n",
            "59500/59500 [==============================] - 4s 72us/step - loss: 0.0932 - val_loss: 0.0939\n",
            "Epoch 20/100\n",
            "59500/59500 [==============================] - 4s 72us/step - loss: 0.0931 - val_loss: 0.0938\n",
            "Epoch 21/100\n",
            "59500/59500 [==============================] - 4s 71us/step - loss: 0.0931 - val_loss: 0.0938\n",
            "Epoch 22/100\n",
            "59500/59500 [==============================] - 4s 69us/step - loss: 0.0930 - val_loss: 0.0938\n",
            "Epoch 23/100\n",
            "59500/59500 [==============================] - 5s 76us/step - loss: 0.0930 - val_loss: 0.0937\n",
            "Epoch 24/100\n",
            "59500/59500 [==============================] - 4s 74us/step - loss: 0.0930 - val_loss: 0.0937\n",
            "Epoch 25/100\n",
            "59500/59500 [==============================] - 4s 73us/step - loss: 0.0929 - val_loss: 0.0937\n",
            "Epoch 26/100\n",
            "59500/59500 [==============================] - 5s 77us/step - loss: 0.0929 - val_loss: 0.0937\n",
            "Epoch 27/100\n",
            "59500/59500 [==============================] - 4s 73us/step - loss: 0.0929 - val_loss: 0.0937\n",
            "Epoch 28/100\n",
            "59500/59500 [==============================] - 4s 71us/step - loss: 0.0929 - val_loss: 0.0935\n",
            "Epoch 29/100\n",
            "59500/59500 [==============================] - 4s 71us/step - loss: 0.0928 - val_loss: 0.0936\n",
            "Epoch 30/100\n",
            "59500/59500 [==============================] - 5s 80us/step - loss: 0.0928 - val_loss: 0.0935\n",
            "Epoch 31/100\n",
            "59500/59500 [==============================] - 4s 71us/step - loss: 0.0928 - val_loss: 0.0934\n",
            "Epoch 32/100\n",
            "59500/59500 [==============================] - 4s 72us/step - loss: 0.0928 - val_loss: 0.0934\n",
            "Epoch 33/100\n",
            "59500/59500 [==============================] - 4s 75us/step - loss: 0.0928 - val_loss: 0.0934\n",
            "Epoch 34/100\n",
            "59500/59500 [==============================] - 4s 71us/step - loss: 0.0927 - val_loss: 0.0934\n",
            "Epoch 35/100\n",
            "59500/59500 [==============================] - 4s 71us/step - loss: 0.0927 - val_loss: 0.0934\n",
            "Epoch 36/100\n",
            "59500/59500 [==============================] - 4s 69us/step - loss: 0.0927 - val_loss: 0.0935\n",
            "Epoch 37/100\n",
            "59500/59500 [==============================] - 4s 70us/step - loss: 0.0927 - val_loss: 0.0934\n",
            "Epoch 38/100\n",
            "59500/59500 [==============================] - 4s 75us/step - loss: 0.0927 - val_loss: 0.0934\n",
            "Epoch 39/100\n",
            "59500/59500 [==============================] - 4s 75us/step - loss: 0.0927 - val_loss: 0.0933\n",
            "Epoch 40/100\n",
            "59500/59500 [==============================] - 5s 78us/step - loss: 0.0926 - val_loss: 0.0933\n",
            "Epoch 41/100\n",
            "59500/59500 [==============================] - 4s 73us/step - loss: 0.0926 - val_loss: 0.0935\n",
            "Epoch 42/100\n",
            "59500/59500 [==============================] - 4s 69us/step - loss: 0.0926 - val_loss: 0.0932\n",
            "Epoch 43/100\n",
            "59500/59500 [==============================] - 4s 73us/step - loss: 0.0926 - val_loss: 0.0932\n",
            "Epoch 44/100\n",
            "59500/59500 [==============================] - 4s 74us/step - loss: 0.0926 - val_loss: 0.0933\n",
            "Epoch 45/100\n",
            "59500/59500 [==============================] - 4s 73us/step - loss: 0.0926 - val_loss: 0.0933\n",
            "Epoch 46/100\n",
            "59500/59500 [==============================] - 4s 70us/step - loss: 0.0925 - val_loss: 0.0932\n",
            "Epoch 47/100\n",
            "59500/59500 [==============================] - 4s 71us/step - loss: 0.0925 - val_loss: 0.0933\n",
            "Epoch 48/100\n",
            "59500/59500 [==============================] - 4s 69us/step - loss: 0.0925 - val_loss: 0.0932\n",
            "Epoch 49/100\n",
            "59500/59500 [==============================] - 4s 71us/step - loss: 0.0925 - val_loss: 0.0932\n",
            "Epoch 50/100\n",
            "59500/59500 [==============================] - 4s 69us/step - loss: 0.0925 - val_loss: 0.0932\n",
            "Epoch 51/100\n",
            "59500/59500 [==============================] - 4s 69us/step - loss: 0.0925 - val_loss: 0.0930\n",
            "Epoch 52/100\n",
            "59500/59500 [==============================] - 4s 70us/step - loss: 0.0925 - val_loss: 0.0931\n",
            "Epoch 53/100\n",
            "59500/59500 [==============================] - 4s 71us/step - loss: 0.0925 - val_loss: 0.0932\n",
            "Epoch 54/100\n",
            "59500/59500 [==============================] - 4s 73us/step - loss: 0.0924 - val_loss: 0.0930\n",
            "Epoch 55/100\n",
            "59500/59500 [==============================] - 4s 74us/step - loss: 0.0924 - val_loss: 0.0931\n",
            "Epoch 56/100\n",
            "59500/59500 [==============================] - 4s 72us/step - loss: 0.0924 - val_loss: 0.0930\n",
            "Epoch 57/100\n",
            "59500/59500 [==============================] - 4s 72us/step - loss: 0.0924 - val_loss: 0.0931\n",
            "Epoch 58/100\n",
            "59500/59500 [==============================] - 4s 75us/step - loss: 0.0924 - val_loss: 0.0930\n",
            "Epoch 59/100\n",
            "59500/59500 [==============================] - 4s 72us/step - loss: 0.0924 - val_loss: 0.0931\n",
            "Epoch 60/100\n",
            "59500/59500 [==============================] - 4s 72us/step - loss: 0.0924 - val_loss: 0.0931\n",
            "Epoch 61/100\n",
            "59500/59500 [==============================] - 4s 71us/step - loss: 0.0924 - val_loss: 0.0931\n",
            "Epoch 62/100\n",
            "59500/59500 [==============================] - 4s 71us/step - loss: 0.0924 - val_loss: 0.0930\n",
            "Epoch 63/100\n",
            "59500/59500 [==============================] - 4s 71us/step - loss: 0.0924 - val_loss: 0.0930\n",
            "Epoch 64/100\n",
            "59500/59500 [==============================] - 4s 73us/step - loss: 0.0923 - val_loss: 0.0930\n",
            "Epoch 65/100\n",
            "59500/59500 [==============================] - 4s 73us/step - loss: 0.0923 - val_loss: 0.0930\n",
            "Epoch 66/100\n",
            "59500/59500 [==============================] - 4s 75us/step - loss: 0.0923 - val_loss: 0.0931\n",
            "Epoch 67/100\n",
            "59500/59500 [==============================] - 4s 72us/step - loss: 0.0923 - val_loss: 0.0929\n",
            "Epoch 68/100\n",
            "59500/59500 [==============================] - 4s 74us/step - loss: 0.0923 - val_loss: 0.0929\n",
            "Epoch 69/100\n",
            "59500/59500 [==============================] - 4s 71us/step - loss: 0.0923 - val_loss: 0.0930\n",
            "Epoch 70/100\n",
            "59500/59500 [==============================] - 4s 71us/step - loss: 0.0923 - val_loss: 0.0929\n",
            "Epoch 71/100\n",
            "59500/59500 [==============================] - 4s 74us/step - loss: 0.0923 - val_loss: 0.0929\n",
            "Epoch 72/100\n",
            "59500/59500 [==============================] - 4s 71us/step - loss: 0.0923 - val_loss: 0.0929\n",
            "Epoch 73/100\n",
            "59500/59500 [==============================] - 4s 72us/step - loss: 0.0922 - val_loss: 0.0929\n",
            "Epoch 74/100\n",
            "59500/59500 [==============================] - 4s 71us/step - loss: 0.0922 - val_loss: 0.0930\n",
            "Epoch 75/100\n",
            "59500/59500 [==============================] - 4s 74us/step - loss: 0.0922 - val_loss: 0.0930\n",
            "Epoch 76/100\n",
            "59500/59500 [==============================] - 4s 73us/step - loss: 0.0922 - val_loss: 0.0929\n",
            "Epoch 77/100\n",
            "59500/59500 [==============================] - 4s 74us/step - loss: 0.0922 - val_loss: 0.0928\n",
            "Epoch 78/100\n",
            "59500/59500 [==============================] - 4s 73us/step - loss: 0.0922 - val_loss: 0.0928\n",
            "Epoch 79/100\n",
            "59500/59500 [==============================] - 5s 79us/step - loss: 0.0922 - val_loss: 0.0929\n",
            "Epoch 80/100\n",
            "59500/59500 [==============================] - 5s 78us/step - loss: 0.0922 - val_loss: 0.0929\n",
            "Epoch 81/100\n",
            "59500/59500 [==============================] - 5s 76us/step - loss: 0.0922 - val_loss: 0.0928\n",
            "Epoch 82/100\n",
            "59500/59500 [==============================] - 4s 72us/step - loss: 0.0922 - val_loss: 0.0929\n",
            "Epoch 83/100\n",
            "59500/59500 [==============================] - 4s 74us/step - loss: 0.0922 - val_loss: 0.0929\n",
            "Epoch 84/100\n",
            "59500/59500 [==============================] - 4s 75us/step - loss: 0.0922 - val_loss: 0.0927\n",
            "Epoch 85/100\n",
            "59500/59500 [==============================] - 4s 74us/step - loss: 0.0921 - val_loss: 0.0927\n",
            "Epoch 86/100\n",
            "59500/59500 [==============================] - 5s 77us/step - loss: 0.0921 - val_loss: 0.0928\n",
            "Epoch 87/100\n",
            "59500/59500 [==============================] - 5s 76us/step - loss: 0.0921 - val_loss: 0.0927\n",
            "Epoch 88/100\n",
            "59500/59500 [==============================] - 5s 79us/step - loss: 0.0921 - val_loss: 0.0928\n",
            "Epoch 89/100\n",
            "59500/59500 [==============================] - 4s 74us/step - loss: 0.0921 - val_loss: 0.0928\n",
            "Epoch 90/100\n",
            "59500/59500 [==============================] - 4s 74us/step - loss: 0.0921 - val_loss: 0.0927\n",
            "Epoch 91/100\n",
            "59500/59500 [==============================] - 5s 76us/step - loss: 0.0921 - val_loss: 0.0926\n",
            "Epoch 92/100\n",
            "59500/59500 [==============================] - 5s 77us/step - loss: 0.0921 - val_loss: 0.0928\n",
            "Epoch 93/100\n",
            "59500/59500 [==============================] - 5s 77us/step - loss: 0.0921 - val_loss: 0.0927\n",
            "Epoch 94/100\n",
            "59500/59500 [==============================] - 5s 76us/step - loss: 0.0921 - val_loss: 0.0928\n",
            "Epoch 95/100\n",
            "59500/59500 [==============================] - 5s 78us/step - loss: 0.0921 - val_loss: 0.0928\n",
            "Epoch 96/100\n",
            "59500/59500 [==============================] - 5s 78us/step - loss: 0.0921 - val_loss: 0.0927\n",
            "Epoch 97/100\n",
            "59500/59500 [==============================] - 5s 80us/step - loss: 0.0920 - val_loss: 0.0927\n",
            "Epoch 98/100\n",
            "59500/59500 [==============================] - 5s 77us/step - loss: 0.0921 - val_loss: 0.0927\n",
            "Epoch 99/100\n",
            "59500/59500 [==============================] - 5s 81us/step - loss: 0.0920 - val_loss: 0.0926\n",
            "Epoch 100/100\n",
            "59500/59500 [==============================] - 5s 76us/step - loss: 0.0920 - val_loss: 0.0926\n"
          ],
          "name": "stdout"
        },
        {
          "output_type": "execute_result",
          "data": {
            "text/plain": [
              "<keras.callbacks.History at 0x7f83e94155f8>"
            ]
          },
          "metadata": {
            "tags": []
          },
          "execution_count": 14
        }
      ]
    },
    {
      "cell_type": "code",
      "metadata": {
        "id": "Q5Hap_QbAtRI",
        "colab_type": "code",
        "colab": {}
      },
      "source": [
        "encoder = Model(input_dataset,encoded)\n",
        "x_test_encoded = encoder.predict(x_test)"
      ],
      "execution_count": 0,
      "outputs": []
    },
    {
      "cell_type": "markdown",
      "metadata": {
        "id": "niivR2RRCczY",
        "colab_type": "text"
      },
      "source": [
        "###### Lets confirm that 784 pixels are now compressed to 32 data points."
      ]
    },
    {
      "cell_type": "code",
      "metadata": {
        "id": "wTYiTRlkCoHa",
        "colab_type": "code",
        "colab": {
          "base_uri": "https://localhost:8080/",
          "height": 34
        },
        "outputId": "fafe0dbc-8b39-427f-9635-aab089556cda"
      },
      "source": [
        "x_test_encoded[0].shape"
      ],
      "execution_count": 17,
      "outputs": [
        {
          "output_type": "execute_result",
          "data": {
            "text/plain": [
              "(32,)"
            ]
          },
          "metadata": {
            "tags": []
          },
          "execution_count": 17
        }
      ]
    },
    {
      "cell_type": "markdown",
      "metadata": {
        "id": "RbOBrjo-C71c",
        "colab_type": "text"
      },
      "source": [
        "##### Now build decoder so that we can decode the encoded information into the original image size."
      ]
    },
    {
      "cell_type": "code",
      "metadata": {
        "id": "TDwMPZ6YDOQm",
        "colab_type": "code",
        "colab": {}
      },
      "source": [
        "decoded_inputs = Input(shape=(32,))\n",
        "decoder = Model(decoded_inputs,dec_fc_layer(decoded_inputs))"
      ],
      "execution_count": 0,
      "outputs": []
    },
    {
      "cell_type": "code",
      "metadata": {
        "id": "sZGkLhzUFlOI",
        "colab_type": "code",
        "colab": {}
      },
      "source": [
        "x_test_decoded = decoder.predict(x_test_encoded)"
      ],
      "execution_count": 0,
      "outputs": []
    },
    {
      "cell_type": "code",
      "metadata": {
        "id": "NOgINaGEElsA",
        "colab_type": "code",
        "colab": {
          "base_uri": "https://localhost:8080/",
          "height": 137
        },
        "outputId": "afe63c43-6202-4904-9bb8-94bab98b4ca5"
      },
      "source": [
        "def show_decodedImages(before_image, after_image):\n",
        "  plt.figure(figsize=(22,6))\n",
        "  for i in range(22):\n",
        "    plt.subplot(6,22,i+1)\n",
        "    plt.imshow(before_image[i].reshape(28,28),cmap='gray')\n",
        "    plt.xticks([])\n",
        "    plt.yticks([])\n",
        "    \n",
        "    plt.subplot(6,22,22+i+1)\n",
        "    plt.imshow(after_image[i].reshape(28,28),cmap='gray')\n",
        "    plt.xticks([])\n",
        "    plt.yticks([])\n",
        "    \n",
        "    \n",
        "    \n",
        "show_decodedImages(x_test,x_test_decoded)"
      ],
      "execution_count": 20,
      "outputs": [
        {
          "output_type": "display_data",
          "data": {
            "image/png": "[encoded data removed]",
            "text/plain": [
              "<Figure size 1584x432 with 44 Axes>"
            ]
          },
          "metadata": {
            "tags": []
          }
        }
      ]
    },
    {
      "cell_type": "markdown",
      "metadata": {
        "id": "11J1doKAFucS",
        "colab_type": "text"
      },
      "source": [
        "##### Can be deduced from above that decoded images could'nt restore completely original images."
      ]
    },
    {
      "cell_type": "markdown",
      "metadata": {
        "id": "VYw4Q1SzF5Yw",
        "colab_type": "text"
      },
      "source": [
        "## Convolutional AutoEncoder"
      ]
    },
    {
      "cell_type": "code",
      "metadata": {
        "id": "cpMYrDdIFfyT",
        "colab_type": "code",
        "colab": {}
      },
      "source": [
        "def convolutional_autoencoder():\n",
        "  inputs = Input(shape=(28, 28, 1))\n",
        "  model = Conv2D(16,3,activation='relu',padding='same')(inputs)\n",
        "  model = MaxPooling2D(padding='same')(model)\n",
        "  model = Conv2D(8,3,activation='relu',padding='same')(model)\n",
        "  model = MaxPooling2D(padding='same')(model)\n",
        "  model = Conv2D(8,3,activation='relu',padding='same')(model)\n",
        "  encoded_input_dataset = MaxPooling2D(padding='same')(model)\n",
        "  \n",
        "  model = Conv2D(8,3,activation='relu',padding='same')(encoded_input_dataset)\n",
        "  model = UpSampling2D()(model)\n",
        "  model = Conv2D( 8, 3, activation='relu', padding='same')(model)\n",
        "  model = UpSampling2D()(model)\n",
        "  model = Conv2D(16, 3, activation='relu')(model)\n",
        "  model = UpSampling2D()(model)\n",
        "  decoded_ = Conv2D(1, 3, activation='sigmoid', padding='same')(model)\n",
        "                                       \n",
        "  autoencoder = Model(inputs,decoded_)                                     \n",
        "  autoencoder.compile(optimizer='adam',loss='binary_crossentropy')\n",
        "                                       \n",
        "  return autoencoder"
      ],
      "execution_count": 0,
      "outputs": []
    },
    {
      "cell_type": "code",
      "metadata": {
        "id": "du1RsDbMT-9_",
        "colab_type": "code",
        "colab": {
          "base_uri": "https://localhost:8080/",
          "height": 683
        },
        "outputId": "ec766b51-90f0-48ab-85fd-d3d126848913"
      },
      "source": [
        "autoencoder = convolutional_autoencoder()\n",
        "autoencoder.summary()"
      ],
      "execution_count": 24,
      "outputs": [
        {
          "output_type": "stream",
          "text": [
            "WARNING:tensorflow:From /usr/local/lib/python3.6/dist-packages/keras/backend/tensorflow_backend.py:2239: The name tf.image.resize_nearest_neighbor is deprecated. Please use tf.compat.v1.image.resize_nearest_neighbor instead.\n",
            "\n",
            "Model: \"model_4\"\n",
            "_________________________________________________________________\n",
            "Layer (type)                 Output Shape              Param #   \n",
            "=================================================================\n",
            "input_4 (InputLayer)         (None, 28, 28, 1)         0         \n",
            "_________________________________________________________________\n",
            "conv2d_5 (Conv2D)            (None, 28, 28, 16)        160       \n",
            "_________________________________________________________________\n",
            "max_pooling2d_4 (MaxPooling2 (None, 14, 14, 16)        0         \n",
            "_________________________________________________________________\n",
            "conv2d_6 (Conv2D)            (None, 14, 14, 8)         1160      \n",
            "_________________________________________________________________\n",
            "max_pooling2d_5 (MaxPooling2 (None, 7, 7, 8)           0         \n",
            "_________________________________________________________________\n",
            "conv2d_7 (Conv2D)            (None, 7, 7, 8)           584       \n",
            "_________________________________________________________________\n",
            "max_pooling2d_6 (MaxPooling2 (None, 4, 4, 8)           0         \n",
            "_________________________________________________________________\n",
            "conv2d_8 (Conv2D)            (None, 4, 4, 8)           584       \n",
            "_________________________________________________________________\n",
            "up_sampling2d_1 (UpSampling2 (None, 8, 8, 8)           0         \n",
            "_________________________________________________________________\n",
            "conv2d_9 (Conv2D)            (None, 8, 8, 8)           584       \n",
            "_________________________________________________________________\n",
            "up_sampling2d_2 (UpSampling2 (None, 16, 16, 8)         0         \n",
            "_________________________________________________________________\n",
            "conv2d_10 (Conv2D)           (None, 14, 14, 16)        1168      \n",
            "_________________________________________________________________\n",
            "up_sampling2d_3 (UpSampling2 (None, 28, 28, 16)        0         \n",
            "_________________________________________________________________\n",
            "conv2d_11 (Conv2D)           (None, 28, 28, 1)         145       \n",
            "=================================================================\n",
            "Total params: 4,385\n",
            "Trainable params: 4,385\n",
            "Non-trainable params: 0\n",
            "_________________________________________________________________\n"
          ],
          "name": "stdout"
        }
      ]
    },
    {
      "cell_type": "code",
      "metadata": {
        "id": "VOhzcBVFUiPq",
        "colab_type": "code",
        "colab": {
          "base_uri": "https://localhost:8080/",
          "height": 1000
        },
        "outputId": "6d88e6d1-71e3-4ff1-ce41-523edfe465ab"
      },
      "source": [
        "x_train = x_train.reshape(-1,28,28,1)\n",
        "x_test = x_test.reshape(-1,28,28,1)\n",
        "x_valid = x_valid.reshape(-1,28,28,1)\n",
        "\n",
        "\n",
        "autoencoder.fit(x_train,x_train,epochs = 50, batch_size = 128, validation_data=(x_valid,x_valid))\n"
      ],
      "execution_count": 25,
      "outputs": [
        {
          "output_type": "stream",
          "text": [
            "Train on 59500 samples, validate on 500 samples\n",
            "Epoch 1/50\n",
            "59500/59500 [==============================] - 81s 1ms/step - loss: 0.2133 - val_loss: 0.1450\n",
            "Epoch 2/50\n",
            "59500/59500 [==============================] - 81s 1ms/step - loss: 0.1328 - val_loss: 0.1265\n",
            "Epoch 3/50\n",
            "59500/59500 [==============================] - 83s 1ms/step - loss: 0.1211 - val_loss: 0.1191\n",
            "Epoch 4/50\n",
            "59500/59500 [==============================] - 83s 1ms/step - loss: 0.1149 - val_loss: 0.1141\n",
            "Epoch 5/50\n",
            "59500/59500 [==============================] - 84s 1ms/step - loss: 0.1108 - val_loss: 0.1100\n",
            "Epoch 6/50\n",
            "59500/59500 [==============================] - 84s 1ms/step - loss: 0.1078 - val_loss: 0.1076\n",
            "Epoch 7/50\n",
            "59500/59500 [==============================] - 83s 1ms/step - loss: 0.1054 - val_loss: 0.1051\n",
            "Epoch 8/50\n",
            "59500/59500 [==============================] - 84s 1ms/step - loss: 0.1035 - val_loss: 0.1036\n",
            "Epoch 9/50\n",
            "59500/59500 [==============================] - 83s 1ms/step - loss: 0.1019 - val_loss: 0.1020\n",
            "Epoch 10/50\n",
            "59500/59500 [==============================] - 82s 1ms/step - loss: 0.1006 - val_loss: 0.1010\n",
            "Epoch 11/50\n",
            "59500/59500 [==============================] - 83s 1ms/step - loss: 0.0994 - val_loss: 0.0994\n",
            "Epoch 12/50\n",
            "59500/59500 [==============================] - 82s 1ms/step - loss: 0.0984 - val_loss: 0.0987\n",
            "Epoch 13/50\n",
            "59500/59500 [==============================] - 82s 1ms/step - loss: 0.0976 - val_loss: 0.0979\n",
            "Epoch 14/50\n",
            "59500/59500 [==============================] - 84s 1ms/step - loss: 0.0968 - val_loss: 0.0971\n",
            "Epoch 15/50\n",
            "59500/59500 [==============================] - 82s 1ms/step - loss: 0.0961 - val_loss: 0.0965\n",
            "Epoch 16/50\n",
            "59500/59500 [==============================] - 83s 1ms/step - loss: 0.0956 - val_loss: 0.0959\n",
            "Epoch 17/50\n",
            "59500/59500 [==============================] - 81s 1ms/step - loss: 0.0950 - val_loss: 0.0952\n",
            "Epoch 18/50\n",
            "59500/59500 [==============================] - 81s 1ms/step - loss: 0.0946 - val_loss: 0.0949\n",
            "Epoch 19/50\n",
            "59500/59500 [==============================] - 84s 1ms/step - loss: 0.0942 - val_loss: 0.0945\n",
            "Epoch 20/50\n",
            "59500/59500 [==============================] - 82s 1ms/step - loss: 0.0939 - val_loss: 0.0939\n",
            "Epoch 21/50\n",
            "59500/59500 [==============================] - 81s 1ms/step - loss: 0.0935 - val_loss: 0.0940\n",
            "Epoch 22/50\n",
            "59500/59500 [==============================] - 81s 1ms/step - loss: 0.0933 - val_loss: 0.0942\n",
            "Epoch 23/50\n",
            "59500/59500 [==============================] - 81s 1ms/step - loss: 0.0930 - val_loss: 0.0932\n",
            "Epoch 24/50\n",
            "59500/59500 [==============================] - 81s 1ms/step - loss: 0.0928 - val_loss: 0.0931\n",
            "Epoch 25/50\n",
            "59500/59500 [==============================] - 81s 1ms/step - loss: 0.0926 - val_loss: 0.0928\n",
            "Epoch 26/50\n",
            "59500/59500 [==============================] - 81s 1ms/step - loss: 0.0924 - val_loss: 0.0927\n",
            "Epoch 27/50\n",
            "59500/59500 [==============================] - 81s 1ms/step - loss: 0.0923 - val_loss: 0.0923\n",
            "Epoch 28/50\n",
            "59500/59500 [==============================] - 81s 1ms/step - loss: 0.0921 - val_loss: 0.0925\n",
            "Epoch 29/50\n",
            "59500/59500 [==============================] - 82s 1ms/step - loss: 0.0919 - val_loss: 0.0923\n",
            "Epoch 30/50\n",
            "59500/59500 [==============================] - 82s 1ms/step - loss: 0.0917 - val_loss: 0.0920\n",
            "Epoch 31/50\n",
            "59500/59500 [==============================] - 81s 1ms/step - loss: 0.0917 - val_loss: 0.0922\n",
            "Epoch 32/50\n",
            "59500/59500 [==============================] - 81s 1ms/step - loss: 0.0915 - val_loss: 0.0916\n",
            "Epoch 33/50\n",
            "59500/59500 [==============================] - 81s 1ms/step - loss: 0.0913 - val_loss: 0.0917\n",
            "Epoch 34/50\n",
            "59500/59500 [==============================] - 82s 1ms/step - loss: 0.0912 - val_loss: 0.0913\n",
            "Epoch 35/50\n",
            "59500/59500 [==============================] - 82s 1ms/step - loss: 0.0911 - val_loss: 0.0911\n",
            "Epoch 36/50\n",
            "59500/59500 [==============================] - 82s 1ms/step - loss: 0.0909 - val_loss: 0.0911\n",
            "Epoch 37/50\n",
            "59500/59500 [==============================] - 81s 1ms/step - loss: 0.0908 - val_loss: 0.0912\n",
            "Epoch 38/50\n",
            "59500/59500 [==============================] - 81s 1ms/step - loss: 0.0908 - val_loss: 0.0910\n",
            "Epoch 39/50\n",
            "59500/59500 [==============================] - 81s 1ms/step - loss: 0.0906 - val_loss: 0.0908\n",
            "Epoch 40/50\n",
            "59500/59500 [==============================] - 81s 1ms/step - loss: 0.0906 - val_loss: 0.0912\n",
            "Epoch 41/50\n",
            "59500/59500 [==============================] - 81s 1ms/step - loss: 0.0905 - val_loss: 0.0905\n",
            "Epoch 42/50\n",
            "59500/59500 [==============================] - 81s 1ms/step - loss: 0.0903 - val_loss: 0.0904\n",
            "Epoch 43/50\n",
            "59500/59500 [==============================] - 82s 1ms/step - loss: 0.0903 - val_loss: 0.0904\n",
            "Epoch 44/50\n",
            "59500/59500 [==============================] - 80s 1ms/step - loss: 0.0902 - val_loss: 0.0903\n",
            "Epoch 45/50\n",
            "59500/59500 [==============================] - 80s 1ms/step - loss: 0.0901 - val_loss: 0.0909\n",
            "Epoch 46/50\n",
            "59500/59500 [==============================] - 80s 1ms/step - loss: 0.0900 - val_loss: 0.0905\n",
            "Epoch 47/50\n",
            "59500/59500 [==============================] - 80s 1ms/step - loss: 0.0899 - val_loss: 0.0903\n",
            "Epoch 48/50\n",
            "59500/59500 [==============================] - 80s 1ms/step - loss: 0.0898 - val_loss: 0.0900\n",
            "Epoch 49/50\n",
            "59500/59500 [==============================] - 81s 1ms/step - loss: 0.0898 - val_loss: 0.0897\n",
            "Epoch 50/50\n",
            "59500/59500 [==============================] - 83s 1ms/step - loss: 0.0897 - val_loss: 0.0898\n"
          ],
          "name": "stdout"
        },
        {
          "output_type": "execute_result",
          "data": {
            "text/plain": [
              "<keras.callbacks.History at 0x7f83e39df8d0>"
            ]
          },
          "metadata": {
            "tags": []
          },
          "execution_count": 25
        }
      ]
    },
    {
      "cell_type": "markdown",
      "metadata": {
        "id": "o45YhdkzVuIt",
        "colab_type": "text"
      },
      "source": [
        "###### To see the quality of compression as well as decompression, let's just feed forward test images to see how the restored digits looks like.\n"
      ]
    },
    {
      "cell_type": "code",
      "metadata": {
        "id": "2buYzwVuV9mS",
        "colab_type": "code",
        "colab": {
          "base_uri": "https://localhost:8080/",
          "height": 137
        },
        "outputId": "7ea5e2ba-6ff3-47fc-b74c-ca778ed453bb"
      },
      "source": [
        "x_test_decoded_images = autoencoder.predict(x_test)\n",
        "\n",
        "show_decodedImages(x_test, x_test_decoded_images)"
      ],
      "execution_count": 28,
      "outputs": [
        {
          "output_type": "display_data",
          "data": {
            "image/png": "[encoded data removed]",
            "text/plain": [
              "<Figure size 1584x432 with 44 Axes>"
            ]
          },
          "metadata": {
            "tags": []
          }
        }
      ]
    },
    {
      "cell_type": "markdown",
      "metadata": {
        "id": "nYUWU_r4WVgd",
        "colab_type": "text"
      },
      "source": [
        "### Noise Reduction by AutoEncoder"
      ]
    },
    {
      "cell_type": "markdown",
      "metadata": {
        "id": "PVC-Ljn_WhUE",
        "colab_type": "text"
      },
      "source": [
        "###### Let's add some random noise in the input MNSIT images and then use them as input for training. "
      ]
    },
    {
      "cell_type": "code",
      "metadata": {
        "id": "uRLJSaENWeCo",
        "colab_type": "code",
        "colab": {}
      },
      "source": [
        "def add_random_noise(model, noise_factor = 0.3):\n",
        "  model = model + np.random.randn(*model.shape)*noise_factor\n",
        "  model = model.clip(0., .1)\n",
        "  return model\n"
      ],
      "execution_count": 0,
      "outputs": []
    },
    {
      "cell_type": "code",
      "metadata": {
        "id": "NWiRPxa1XI6t",
        "colab_type": "code",
        "colab": {}
      },
      "source": [
        "#Noisy DataSet\n",
        "x_train_noisy = add_random_noise(x_train)\n",
        "x_test_noisy = add_random_noise(x_test)\n",
        "x_valid_noisy = add_random_noise(x_valid)"
      ],
      "execution_count": 0,
      "outputs": []
    },
    {
      "cell_type": "markdown",
      "metadata": {
        "id": "JCxMKyDPX8Wa",
        "colab_type": "text"
      },
      "source": [
        "##### We train a new autoencoder with noisy data as input and original data as expected output."
      ]
    },
    {
      "cell_type": "code",
      "metadata": {
        "id": "2otfrBgVYOqF",
        "colab_type": "code",
        "colab": {
          "base_uri": "https://localhost:8080/",
          "height": 1000
        },
        "outputId": "bad463d7-d0ad-4e75-9c2f-4799f892c877"
      },
      "source": [
        "autoencoder = convolutional_autoencoder()\n",
        "autoencoder.fit(x_train_noisy, x_train, epochs = 50, batch_size = 128, validation_data = (x_valid_noisy, x_valid))"
      ],
      "execution_count": 32,
      "outputs": [
        {
          "output_type": "stream",
          "text": [
            "Train on 59500 samples, validate on 500 samples\n",
            "Epoch 1/50\n",
            "59500/59500 [==============================] - 83s 1ms/step - loss: 0.2883 - val_loss: 0.2385\n",
            "Epoch 2/50\n",
            "59500/59500 [==============================] - 82s 1ms/step - loss: 0.1974 - val_loss: 0.1782\n",
            "Epoch 3/50\n",
            "59500/59500 [==============================] - 81s 1ms/step - loss: 0.1703 - val_loss: 0.1653\n",
            "Epoch 4/50\n",
            "59500/59500 [==============================] - 81s 1ms/step - loss: 0.1602 - val_loss: 0.1574\n",
            "Epoch 5/50\n",
            "59500/59500 [==============================] - 82s 1ms/step - loss: 0.1533 - val_loss: 0.1517\n",
            "Epoch 6/50\n",
            "59500/59500 [==============================] - 81s 1ms/step - loss: 0.1485 - val_loss: 0.1474\n",
            "Epoch 7/50\n",
            "59500/59500 [==============================] - 82s 1ms/step - loss: 0.1452 - val_loss: 0.1444\n",
            "Epoch 8/50\n",
            "59500/59500 [==============================] - 82s 1ms/step - loss: 0.1429 - val_loss: 0.1426\n",
            "Epoch 9/50\n",
            "59500/59500 [==============================] - 82s 1ms/step - loss: 0.1411 - val_loss: 0.1407\n",
            "Epoch 10/50\n",
            "59500/59500 [==============================] - 82s 1ms/step - loss: 0.1396 - val_loss: 0.1396\n",
            "Epoch 11/50\n",
            "59500/59500 [==============================] - 82s 1ms/step - loss: 0.1383 - val_loss: 0.1388\n",
            "Epoch 12/50\n",
            "59500/59500 [==============================] - 82s 1ms/step - loss: 0.1371 - val_loss: 0.1378\n",
            "Epoch 13/50\n",
            "59500/59500 [==============================] - 82s 1ms/step - loss: 0.1362 - val_loss: 0.1375\n",
            "Epoch 14/50\n",
            "59500/59500 [==============================] - 83s 1ms/step - loss: 0.1353 - val_loss: 0.1357\n",
            "Epoch 15/50\n",
            "59500/59500 [==============================] - 82s 1ms/step - loss: 0.1344 - val_loss: 0.1353\n",
            "Epoch 16/50\n",
            "59500/59500 [==============================] - 82s 1ms/step - loss: 0.1336 - val_loss: 0.1346\n",
            "Epoch 17/50\n",
            "59500/59500 [==============================] - 82s 1ms/step - loss: 0.1329 - val_loss: 0.1334\n",
            "Epoch 18/50\n",
            "59500/59500 [==============================] - 81s 1ms/step - loss: 0.1322 - val_loss: 0.1328\n",
            "Epoch 19/50\n",
            "59500/59500 [==============================] - 82s 1ms/step - loss: 0.1317 - val_loss: 0.1328\n",
            "Epoch 20/50\n",
            "59500/59500 [==============================] - 82s 1ms/step - loss: 0.1311 - val_loss: 0.1323\n",
            "Epoch 21/50\n",
            "59500/59500 [==============================] - 84s 1ms/step - loss: 0.1307 - val_loss: 0.1313\n",
            "Epoch 22/50\n",
            "59500/59500 [==============================] - 85s 1ms/step - loss: 0.1302 - val_loss: 0.1313\n",
            "Epoch 23/50\n",
            "59500/59500 [==============================] - 85s 1ms/step - loss: 0.1298 - val_loss: 0.1305\n",
            "Epoch 24/50\n",
            "59500/59500 [==============================] - 83s 1ms/step - loss: 0.1294 - val_loss: 0.1302\n",
            "Epoch 25/50\n",
            "59500/59500 [==============================] - 82s 1ms/step - loss: 0.1290 - val_loss: 0.1303\n",
            "Epoch 26/50\n",
            "59500/59500 [==============================] - 82s 1ms/step - loss: 0.1287 - val_loss: 0.1295\n",
            "Epoch 27/50\n",
            "59500/59500 [==============================] - 82s 1ms/step - loss: 0.1284 - val_loss: 0.1291\n",
            "Epoch 28/50\n",
            "59500/59500 [==============================] - 82s 1ms/step - loss: 0.1281 - val_loss: 0.1295\n",
            "Epoch 29/50\n",
            "59500/59500 [==============================] - 82s 1ms/step - loss: 0.1279 - val_loss: 0.1294\n",
            "Epoch 30/50\n",
            "59500/59500 [==============================] - 82s 1ms/step - loss: 0.1275 - val_loss: 0.1285\n",
            "Epoch 31/50\n",
            "59500/59500 [==============================] - 82s 1ms/step - loss: 0.1273 - val_loss: 0.1280\n",
            "Epoch 32/50\n",
            "59500/59500 [==============================] - 82s 1ms/step - loss: 0.1270 - val_loss: 0.1280\n",
            "Epoch 33/50\n",
            "59500/59500 [==============================] - 82s 1ms/step - loss: 0.1268 - val_loss: 0.1275\n",
            "Epoch 34/50\n",
            "59500/59500 [==============================] - 81s 1ms/step - loss: 0.1266 - val_loss: 0.1274\n",
            "Epoch 35/50\n",
            "59500/59500 [==============================] - 82s 1ms/step - loss: 0.1263 - val_loss: 0.1275\n",
            "Epoch 36/50\n",
            "59500/59500 [==============================] - 82s 1ms/step - loss: 0.1261 - val_loss: 0.1268\n",
            "Epoch 37/50\n",
            "59500/59500 [==============================] - 82s 1ms/step - loss: 0.1259 - val_loss: 0.1269\n",
            "Epoch 38/50\n",
            "59500/59500 [==============================] - 82s 1ms/step - loss: 0.1256 - val_loss: 0.1272\n",
            "Epoch 39/50\n",
            "59500/59500 [==============================] - 82s 1ms/step - loss: 0.1253 - val_loss: 0.1261\n",
            "Epoch 40/50\n",
            "59500/59500 [==============================] - 82s 1ms/step - loss: 0.1250 - val_loss: 0.1257\n",
            "Epoch 41/50\n",
            "59500/59500 [==============================] - 82s 1ms/step - loss: 0.1248 - val_loss: 0.1256\n",
            "Epoch 42/50\n",
            "59500/59500 [==============================] - 83s 1ms/step - loss: 0.1245 - val_loss: 0.1255\n",
            "Epoch 43/50\n",
            "59500/59500 [==============================] - 82s 1ms/step - loss: 0.1244 - val_loss: 0.1256\n",
            "Epoch 44/50\n",
            "59500/59500 [==============================] - 82s 1ms/step - loss: 0.1241 - val_loss: 0.1255\n",
            "Epoch 45/50\n",
            "59500/59500 [==============================] - 82s 1ms/step - loss: 0.1240 - val_loss: 0.1257\n",
            "Epoch 46/50\n",
            "59500/59500 [==============================] - 83s 1ms/step - loss: 0.1238 - val_loss: 0.1250\n",
            "Epoch 47/50\n",
            "59500/59500 [==============================] - 83s 1ms/step - loss: 0.1237 - val_loss: 0.1250\n",
            "Epoch 48/50\n",
            "59500/59500 [==============================] - 83s 1ms/step - loss: 0.1236 - val_loss: 0.1247\n",
            "Epoch 49/50\n",
            "59500/59500 [==============================] - 84s 1ms/step - loss: 0.1234 - val_loss: 0.1243\n",
            "Epoch 50/50\n",
            "59500/59500 [==============================] - 84s 1ms/step - loss: 0.1233 - val_loss: 0.1243\n"
          ],
          "name": "stdout"
        },
        {
          "output_type": "execute_result",
          "data": {
            "text/plain": [
              "<keras.callbacks.History at 0x7f83dff55ac8>"
            ]
          },
          "metadata": {
            "tags": []
          },
          "execution_count": 32
        }
      ]
    },
    {
      "cell_type": "code",
      "metadata": {
        "id": "y8wyCdyWYv-1",
        "colab_type": "code",
        "colab": {
          "base_uri": "https://localhost:8080/",
          "height": 137
        },
        "outputId": "cdbe00be-725c-4d7a-e717-a2e47a33fb81"
      },
      "source": [
        "x_test_decoded = autoencoder.predict(x_test_noisy)\n",
        "show_decodedImages(x_test_noisy,x_test_decoded)"
      ],
      "execution_count": 33,
      "outputs": [
        {
          "output_type": "display_data",
          "data": {
            "image/png": "[encoded data removed]",
            "text/plain": [
              "<Figure size 1584x432 with 44 Axes>"
            ]
          },
          "metadata": {
            "tags": []
          }
        }
      ]
    },
    {
      "cell_type": "code",
      "metadata": {
        "id": "hMYGOv6c96Od",
        "colab_type": "code",
        "colab": {}
      },
      "source": [
        ""
      ],
      "execution_count": 0,
      "outputs": []
    }
  ]
}